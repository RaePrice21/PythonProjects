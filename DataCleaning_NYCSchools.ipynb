{
 "cells": [
  {
   "cell_type": "markdown",
   "metadata": {},
   "source": [
    "# Read in the data"
   ]
  },
  {
   "cell_type": "code",
   "execution_count": 1,
   "metadata": {},
   "outputs": [],
   "source": [
    "import pandas as pd\n",
    "import numpy\n",
    "import re\n",
    "import matplotlib\n",
    "\n",
    "data_files = [\n",
    "    \"ap_2010.csv\",\n",
    "    \"class_size.csv\",\n",
    "    \"demographics.csv\",\n",
    "    \"graduation.csv\",\n",
    "    \"hs_directory.csv\",\n",
    "    \"sat_results.csv\"\n",
    "]\n",
    "\n",
    "data = {}\n",
    "\n",
    "for f in data_files:\n",
    "    d = pd.read_csv(\"schools/{0}\".format(f))\n",
    "    data[f.replace(\".csv\", \"\")] = d"
   ]
  },
  {
   "cell_type": "markdown",
   "metadata": {},
   "source": [
    "# Read in the surveys"
   ]
  },
  {
   "cell_type": "code",
   "execution_count": 2,
   "metadata": {},
   "outputs": [],
   "source": [
    "all_survey = pd.read_csv(\"schools/survey_all.txt\", delimiter=\"\\t\", encoding='windows-1252')\n",
    "d75_survey = pd.read_csv(\"schools/survey_d75.txt\", delimiter=\"\\t\", encoding='windows-1252')\n",
    "survey = pd.concat([all_survey, d75_survey], axis=0)\n",
    "\n",
    "survey[\"DBN\"] = survey[\"dbn\"]\n",
    "\n",
    "survey_fields = [\n",
    "    \"DBN\", \n",
    "    \"rr_s\", \n",
    "    \"rr_t\", \n",
    "    \"rr_p\", \n",
    "    \"N_s\", \n",
    "    \"N_t\", \n",
    "    \"N_p\", \n",
    "    \"saf_p_11\", \n",
    "    \"com_p_11\", \n",
    "    \"eng_p_11\", \n",
    "    \"aca_p_11\", \n",
    "    \"saf_t_11\", \n",
    "    \"com_t_11\", \n",
    "    \"eng_t_11\", \n",
    "    \"aca_t_11\", \n",
    "    \"saf_s_11\", \n",
    "    \"com_s_11\", \n",
    "    \"eng_s_11\", \n",
    "    \"aca_s_11\", \n",
    "    \"saf_tot_11\", \n",
    "    \"com_tot_11\", \n",
    "    \"eng_tot_11\", \n",
    "    \"aca_tot_11\",\n",
    "]\n",
    "survey = survey.loc[:,survey_fields]\n",
    "data[\"survey\"] = survey"
   ]
  },
  {
   "cell_type": "markdown",
   "metadata": {},
   "source": [
    "# Add DBN columns"
   ]
  },
  {
   "cell_type": "code",
   "execution_count": 3,
   "metadata": {},
   "outputs": [],
   "source": [
    "data[\"hs_directory\"][\"DBN\"] = data[\"hs_directory\"][\"dbn\"]\n",
    "\n",
    "def pad_csd(num):\n",
    "    string_representation = str(num)\n",
    "    if len(string_representation) > 1:\n",
    "        return string_representation\n",
    "    else:\n",
    "        return \"0\" + string_representation\n",
    "    \n",
    "data[\"class_size\"][\"padded_csd\"] = data[\"class_size\"][\"CSD\"].apply(pad_csd)\n",
    "data[\"class_size\"][\"DBN\"] = data[\"class_size\"][\"padded_csd\"] + data[\"class_size\"][\"SCHOOL CODE\"]"
   ]
  },
  {
   "cell_type": "markdown",
   "metadata": {},
   "source": [
    "# Convert columns to numeric"
   ]
  },
  {
   "cell_type": "code",
   "execution_count": 4,
   "metadata": {},
   "outputs": [],
   "source": [
    "cols = ['SAT Math Avg. Score', 'SAT Critical Reading Avg. Score', 'SAT Writing Avg. Score']\n",
    "for c in cols:\n",
    "    data[\"sat_results\"][c] = pd.to_numeric(data[\"sat_results\"][c], errors=\"coerce\")\n",
    "\n",
    "data['sat_results']['sat_score'] = data['sat_results'][cols[0]] + data['sat_results'][cols[1]] + data['sat_results'][cols[2]]\n",
    "\n",
    "def find_lat(loc):\n",
    "    coords = re.findall(\"\\(.+, .+\\)\", loc)\n",
    "    lat = coords[0].split(\",\")[0].replace(\"(\", \"\")\n",
    "    return lat\n",
    "\n",
    "def find_lon(loc):\n",
    "    coords = re.findall(\"\\(.+, .+\\)\", loc)\n",
    "    lon = coords[0].split(\",\")[1].replace(\")\", \"\").strip()\n",
    "    return lon\n",
    "\n",
    "data[\"hs_directory\"][\"lat\"] = data[\"hs_directory\"][\"Location 1\"].apply(find_lat)\n",
    "data[\"hs_directory\"][\"lon\"] = data[\"hs_directory\"][\"Location 1\"].apply(find_lon)\n",
    "\n",
    "data[\"hs_directory\"][\"lat\"] = pd.to_numeric(data[\"hs_directory\"][\"lat\"], errors=\"coerce\")\n",
    "data[\"hs_directory\"][\"lon\"] = pd.to_numeric(data[\"hs_directory\"][\"lon\"], errors=\"coerce\")"
   ]
  },
  {
   "cell_type": "markdown",
   "metadata": {},
   "source": [
    "# Condense datasets"
   ]
  },
  {
   "cell_type": "code",
   "execution_count": 5,
   "metadata": {},
   "outputs": [],
   "source": [
    "class_size = data[\"class_size\"]\n",
    "class_size = class_size[class_size[\"GRADE \"] == \"09-12\"]\n",
    "class_size = class_size[class_size[\"PROGRAM TYPE\"] == \"GEN ED\"]\n",
    "\n",
    "class_size = class_size.groupby(\"DBN\").agg(numpy.mean)\n",
    "class_size.reset_index(inplace=True)\n",
    "data[\"class_size\"] = class_size\n",
    "\n",
    "data[\"demographics\"] = data[\"demographics\"][data[\"demographics\"][\"schoolyear\"] == 20112012]\n",
    "\n",
    "data[\"graduation\"] = data[\"graduation\"][data[\"graduation\"][\"Cohort\"] == \"2006\"]\n",
    "data[\"graduation\"] = data[\"graduation\"][data[\"graduation\"][\"Demographic\"] == \"Total Cohort\"]"
   ]
  },
  {
   "cell_type": "markdown",
   "metadata": {},
   "source": [
    "# Convert AP scores to numeric"
   ]
  },
  {
   "cell_type": "code",
   "execution_count": 6,
   "metadata": {},
   "outputs": [],
   "source": [
    "cols = ['AP Test Takers ', 'Total Exams Taken', 'Number of Exams with scores 3 4 or 5']\n",
    "\n",
    "for col in cols:\n",
    "    data[\"ap_2010\"][col] = pd.to_numeric(data[\"ap_2010\"][col], errors=\"coerce\")"
   ]
  },
  {
   "cell_type": "markdown",
   "metadata": {},
   "source": [
    "# Combine the datasets"
   ]
  },
  {
   "cell_type": "code",
   "execution_count": 7,
   "metadata": {},
   "outputs": [],
   "source": [
    "combined = data[\"sat_results\"]\n",
    "\n",
    "combined = combined.merge(data[\"ap_2010\"], on=\"DBN\", how=\"left\")\n",
    "combined = combined.merge(data[\"graduation\"], on=\"DBN\", how=\"left\")\n",
    "\n",
    "to_merge = [\"class_size\", \"demographics\", \"survey\", \"hs_directory\"]\n",
    "\n",
    "for m in to_merge:\n",
    "    combined = combined.merge(data[m], on=\"DBN\", how=\"inner\")\n",
    "\n",
    "combined = combined.fillna(combined.mean())\n",
    "combined = combined.fillna(0)"
   ]
  },
  {
   "cell_type": "markdown",
   "metadata": {},
   "source": [
    "# Add a school district column for mapping"
   ]
  },
  {
   "cell_type": "code",
   "execution_count": 8,
   "metadata": {},
   "outputs": [],
   "source": [
    "def get_first_two_chars(dbn):\n",
    "    return dbn[0:2]\n",
    "\n",
    "combined[\"school_dist\"] = combined[\"DBN\"].apply(get_first_two_chars)"
   ]
  },
  {
   "cell_type": "markdown",
   "metadata": {},
   "source": [
    "# Find correlations"
   ]
  },
  {
   "cell_type": "code",
   "execution_count": 9,
   "metadata": {},
   "outputs": [
    {
     "name": "stdout",
     "output_type": "stream",
     "text": [
      "SAT Critical Reading Avg. Score    0.986820\n",
      "SAT Math Avg. Score                0.972643\n",
      "SAT Writing Avg. Score             0.987771\n",
      "sat_score                          1.000000\n",
      "AP Test Takers                     0.523140\n",
      "                                     ...   \n",
      "priority08                              NaN\n",
      "priority09                              NaN\n",
      "priority10                              NaN\n",
      "lat                               -0.121029\n",
      "lon                               -0.132222\n",
      "Name: sat_score, Length: 67, dtype: float64\n"
     ]
    }
   ],
   "source": [
    "correlations = combined.corr()\n",
    "correlations = correlations[\"sat_score\"]\n",
    "print(correlations)"
   ]
  },
  {
   "cell_type": "markdown",
   "metadata": {},
   "source": [
    "# Plotting survey correlations"
   ]
  },
  {
   "cell_type": "code",
   "execution_count": 10,
   "metadata": {},
   "outputs": [],
   "source": [
    "# Remove DBN since it's a unique identifier, not a useful numerical value for correlation.\n",
    "survey_fields.remove(\"DBN\")"
   ]
  },
  {
   "cell_type": "code",
   "execution_count": 11,
   "metadata": {},
   "outputs": [
    {
     "name": "stdout",
     "output_type": "stream",
     "text": [
      "['rr_s', 'rr_t', 'rr_p', 'N_s', 'N_t', 'N_p', 'saf_p_11', 'com_p_11', 'eng_p_11', 'aca_p_11', 'saf_t_11', 'com_t_11', 'eng_t_11', 'aca_t_11', 'saf_s_11', 'com_s_11', 'eng_s_11', 'aca_s_11', 'saf_tot_11', 'com_tot_11', 'eng_tot_11', 'aca_tot_11', 'sat_score']\n"
     ]
    }
   ],
   "source": [
    "survey_and_sat = survey_fields + ['sat_score']\n",
    "print(survey_and_sat)"
   ]
  },
  {
   "cell_type": "code",
   "execution_count": 12,
   "metadata": {},
   "outputs": [
    {
     "data": {
      "text/plain": [
       "rr_s          0.232199\n",
       "rr_t         -0.023386\n",
       "rr_p          0.047925\n",
       "N_s           0.423463\n",
       "N_t           0.291463\n",
       "N_p           0.421530\n",
       "saf_p_11      0.122913\n",
       "com_p_11     -0.115073\n",
       "eng_p_11      0.020254\n",
       "aca_p_11      0.035155\n",
       "saf_t_11      0.313810\n",
       "com_t_11      0.082419\n",
       "eng_t_11      0.036906\n",
       "aca_t_11      0.132348\n",
       "saf_s_11      0.337639\n",
       "com_s_11      0.187370\n",
       "eng_s_11      0.213822\n",
       "aca_s_11      0.339435\n",
       "saf_tot_11    0.318753\n",
       "com_tot_11    0.077310\n",
       "eng_tot_11    0.100102\n",
       "aca_tot_11    0.190966\n",
       "sat_score     1.000000\n",
       "Name: sat_score, dtype: float64"
      ]
     },
     "execution_count": 12,
     "metadata": {},
     "output_type": "execute_result"
    }
   ],
   "source": [
    "survey_corr = combined[survey_and_sat].corr()\n",
    "survey_corr = survey_corr['sat_score']\n",
    "survey_corr"
   ]
  },
  {
   "cell_type": "code",
   "execution_count": 13,
   "metadata": {},
   "outputs": [
    {
     "data": {
      "image/png": "[encoded data removed]",
      "text/plain": [
       "<Figure size 600x400 with 1 Axes>"
      ]
     },
     "metadata": {},
     "output_type": "display_data"
    }
   ],
   "source": [
    "import matplotlib.pyplot as plt\n",
    "%matplotlib inline\n",
    "plt.barh(survey_and_sat, survey_corr)\n",
    "plt.show()"
   ]
  },
  {
   "cell_type": "markdown",
   "metadata": {},
   "source": [
    "`N_p` and `N_s`, the number of parent and student respondents to the survey, respectively, both have relatively high correlations (>0.4). The only two negative correlations are `com_p_11` (communication score based on parents' responses) and `rr_t` (teacher response rate), although the latter is very close to 0. Other relatively high correlations (>=0.3) are `aca_s_11` (academic expectations score based on student responses), `saf_s_11` ( safety and respect score based on students' responses), `saf_t_11` (safety and respect score based on teachers' responses), `N_t` (number of teacher respondents), `saf_tot_11` (safety and respect total score, based on student, teacher, and parent responses).       "
   ]
  },
  {
   "cell_type": "markdown",
   "metadata": {},
   "source": [
    "# Investigating safety scores"
   ]
  },
  {
   "cell_type": "code",
   "execution_count": 14,
   "metadata": {},
   "outputs": [
    {
     "data": {
      "image/png": "[encoded data removed]",
      "text/plain": [
       "<Figure size 600x400 with 1 Axes>"
      ]
     },
     "metadata": {},
     "output_type": "display_data"
    }
   ],
   "source": [
    "combined.plot.scatter('saf_s_11', 'sat_score')\n",
    "plt.show()"
   ]
  },
  {
   "cell_type": "markdown",
   "metadata": {},
   "source": [
    "There isn't a clear linear relationship between student's safety scores and SAT scores, but there is an upward trend, especially with safety scores higher than 7. "
   ]
  },
  {
   "cell_type": "markdown",
   "metadata": {},
   "source": [
    "# Safety scores by borough"
   ]
  },
  {
   "cell_type": "code",
   "execution_count": 15,
   "metadata": {},
   "outputs": [
    {
     "data": {
      "text/plain": [
       "0    Manhattan\n",
       "1    Manhattan\n",
       "2    Manhattan\n",
       "3    Manhattan\n",
       "4    Manhattan\n",
       "Name: boro, dtype: object"
      ]
     },
     "execution_count": 15,
     "metadata": {},
     "output_type": "execute_result"
    }
   ],
   "source": [
    "combined['boro'].head()"
   ]
  },
  {
   "cell_type": "code",
   "execution_count": 16,
   "metadata": {},
   "outputs": [
    {
     "data": {
      "text/html": [
       "<div>\n",
       "<style scoped>\n",
       "    .dataframe tbody tr th:only-of-type {\n",
       "        vertical-align: middle;\n",
       "    }\n",
       "\n",
       "    .dataframe tbody tr th {\n",
       "        vertical-align: top;\n",
       "    }\n",
       "\n",
       "    .dataframe thead th {\n",
       "        text-align: right;\n",
       "    }\n",
       "</style>\n",
       "<table border=\"1\" class=\"dataframe\">\n",
       "  <thead>\n",
       "    <tr style=\"text-align: right;\">\n",
       "      <th></th>\n",
       "      <th>SAT Critical Reading Avg. Score</th>\n",
       "      <th>SAT Math Avg. Score</th>\n",
       "      <th>SAT Writing Avg. Score</th>\n",
       "      <th>sat_score</th>\n",
       "      <th>AP Test Takers</th>\n",
       "      <th>Total Exams Taken</th>\n",
       "      <th>Number of Exams with scores 3 4 or 5</th>\n",
       "      <th>Total Cohort</th>\n",
       "      <th>CSD</th>\n",
       "      <th>NUMBER OF STUDENTS / SEATS FILLED</th>\n",
       "      <th>...</th>\n",
       "      <th>grade_span_max</th>\n",
       "      <th>expgrade_span_max</th>\n",
       "      <th>zip</th>\n",
       "      <th>total_students</th>\n",
       "      <th>number_programs</th>\n",
       "      <th>priority08</th>\n",
       "      <th>priority09</th>\n",
       "      <th>priority10</th>\n",
       "      <th>lat</th>\n",
       "      <th>lon</th>\n",
       "    </tr>\n",
       "    <tr>\n",
       "      <th>boro</th>\n",
       "      <th></th>\n",
       "      <th></th>\n",
       "      <th></th>\n",
       "      <th></th>\n",
       "      <th></th>\n",
       "      <th></th>\n",
       "      <th></th>\n",
       "      <th></th>\n",
       "      <th></th>\n",
       "      <th></th>\n",
       "      <th></th>\n",
       "      <th></th>\n",
       "      <th></th>\n",
       "      <th></th>\n",
       "      <th></th>\n",
       "      <th></th>\n",
       "      <th></th>\n",
       "      <th></th>\n",
       "      <th></th>\n",
       "      <th></th>\n",
       "      <th></th>\n",
       "    </tr>\n",
       "  </thead>\n",
       "  <tbody>\n",
       "    <tr>\n",
       "      <th>Bronx</th>\n",
       "      <td>384.050714</td>\n",
       "      <td>393.891831</td>\n",
       "      <td>379.655657</td>\n",
       "      <td>1157.598203</td>\n",
       "      <td>96.473842</td>\n",
       "      <td>149.445409</td>\n",
       "      <td>135.694086</td>\n",
       "      <td>136.857093</td>\n",
       "      <td>9.548387</td>\n",
       "      <td>123.113090</td>\n",
       "      <td>...</td>\n",
       "      <td>12.0</td>\n",
       "      <td>12.0</td>\n",
       "      <td>10461.408602</td>\n",
       "      <td>549.569892</td>\n",
       "      <td>1.344086</td>\n",
       "      <td>0.0</td>\n",
       "      <td>0.0</td>\n",
       "      <td>0.0</td>\n",
       "      <td>40.845473</td>\n",
       "      <td>-73.890973</td>\n",
       "    </tr>\n",
       "    <tr>\n",
       "      <th>Brooklyn</th>\n",
       "      <td>391.336947</td>\n",
       "      <td>404.612644</td>\n",
       "      <td>385.414869</td>\n",
       "      <td>1181.364461</td>\n",
       "      <td>131.645682</td>\n",
       "      <td>202.857765</td>\n",
       "      <td>164.940094</td>\n",
       "      <td>183.870968</td>\n",
       "      <td>18.000000</td>\n",
       "      <td>168.902227</td>\n",
       "      <td>...</td>\n",
       "      <td>12.0</td>\n",
       "      <td>12.0</td>\n",
       "      <td>11216.150943</td>\n",
       "      <td>751.556604</td>\n",
       "      <td>1.971698</td>\n",
       "      <td>0.0</td>\n",
       "      <td>0.0</td>\n",
       "      <td>0.0</td>\n",
       "      <td>40.665555</td>\n",
       "      <td>-73.947829</td>\n",
       "    </tr>\n",
       "    <tr>\n",
       "      <th>Manhattan</th>\n",
       "      <td>421.070149</td>\n",
       "      <td>437.824710</td>\n",
       "      <td>419.436551</td>\n",
       "      <td>1278.331410</td>\n",
       "      <td>126.135363</td>\n",
       "      <td>192.661966</td>\n",
       "      <td>153.337778</td>\n",
       "      <td>155.421505</td>\n",
       "      <td>2.900000</td>\n",
       "      <td>143.512969</td>\n",
       "      <td>...</td>\n",
       "      <td>12.0</td>\n",
       "      <td>12.0</td>\n",
       "      <td>10024.744444</td>\n",
       "      <td>633.588889</td>\n",
       "      <td>1.433333</td>\n",
       "      <td>0.0</td>\n",
       "      <td>0.0</td>\n",
       "      <td>0.0</td>\n",
       "      <td>40.766244</td>\n",
       "      <td>-73.975350</td>\n",
       "    </tr>\n",
       "    <tr>\n",
       "      <th>Queens</th>\n",
       "      <td>422.274953</td>\n",
       "      <td>448.207556</td>\n",
       "      <td>416.270522</td>\n",
       "      <td>1286.753032</td>\n",
       "      <td>160.463942</td>\n",
       "      <td>238.014423</td>\n",
       "      <td>153.975000</td>\n",
       "      <td>307.208165</td>\n",
       "      <td>26.906250</td>\n",
       "      <td>254.299343</td>\n",
       "      <td>...</td>\n",
       "      <td>12.0</td>\n",
       "      <td>12.0</td>\n",
       "      <td>11343.000000</td>\n",
       "      <td>1187.187500</td>\n",
       "      <td>2.390625</td>\n",
       "      <td>0.0</td>\n",
       "      <td>0.0</td>\n",
       "      <td>0.0</td>\n",
       "      <td>40.715715</td>\n",
       "      <td>-73.836422</td>\n",
       "    </tr>\n",
       "    <tr>\n",
       "      <th>Staten Island</th>\n",
       "      <td>457.500000</td>\n",
       "      <td>472.500000</td>\n",
       "      <td>452.500000</td>\n",
       "      <td>1382.500000</td>\n",
       "      <td>228.908654</td>\n",
       "      <td>355.111538</td>\n",
       "      <td>194.435000</td>\n",
       "      <td>450.787097</td>\n",
       "      <td>31.000000</td>\n",
       "      <td>380.528319</td>\n",
       "      <td>...</td>\n",
       "      <td>12.0</td>\n",
       "      <td>12.0</td>\n",
       "      <td>10307.100000</td>\n",
       "      <td>1847.500000</td>\n",
       "      <td>5.000000</td>\n",
       "      <td>0.0</td>\n",
       "      <td>0.0</td>\n",
       "      <td>0.0</td>\n",
       "      <td>40.595680</td>\n",
       "      <td>-74.125726</td>\n",
       "    </tr>\n",
       "  </tbody>\n",
       "</table>\n",
       "<p>5 rows × 67 columns</p>\n",
       "</div>"
      ],
      "text/plain": [
       "               SAT Critical Reading Avg. Score  SAT Math Avg. Score  \\\n",
       "boro                                                                  \n",
       "Bronx                               384.050714           393.891831   \n",
       "Brooklyn                            391.336947           404.612644   \n",
       "Manhattan                           421.070149           437.824710   \n",
       "Queens                              422.274953           448.207556   \n",
       "Staten Island                       457.500000           472.500000   \n",
       "\n",
       "               SAT Writing Avg. Score    sat_score  AP Test Takers   \\\n",
       "boro                                                                  \n",
       "Bronx                      379.655657  1157.598203        96.473842   \n",
       "Brooklyn                   385.414869  1181.364461       131.645682   \n",
       "Manhattan                  419.436551  1278.331410       126.135363   \n",
       "Queens                     416.270522  1286.753032       160.463942   \n",
       "Staten Island              452.500000  1382.500000       228.908654   \n",
       "\n",
       "               Total Exams Taken  Number of Exams with scores 3 4 or 5  \\\n",
       "boro                                                                     \n",
       "Bronx                 149.445409                            135.694086   \n",
       "Brooklyn              202.857765                            164.940094   \n",
       "Manhattan             192.661966                            153.337778   \n",
       "Queens                238.014423                            153.975000   \n",
       "Staten Island         355.111538                            194.435000   \n",
       "\n",
       "               Total Cohort        CSD  NUMBER OF STUDENTS / SEATS FILLED  \\\n",
       "boro                                                                        \n",
       "Bronx            136.857093   9.548387                         123.113090   \n",
       "Brooklyn         183.870968  18.000000                         168.902227   \n",
       "Manhattan        155.421505   2.900000                         143.512969   \n",
       "Queens           307.208165  26.906250                         254.299343   \n",
       "Staten Island    450.787097  31.000000                         380.528319   \n",
       "\n",
       "               ...  grade_span_max  expgrade_span_max           zip  \\\n",
       "boro           ...                                                    \n",
       "Bronx          ...            12.0               12.0  10461.408602   \n",
       "Brooklyn       ...            12.0               12.0  11216.150943   \n",
       "Manhattan      ...            12.0               12.0  10024.744444   \n",
       "Queens         ...            12.0               12.0  11343.000000   \n",
       "Staten Island  ...            12.0               12.0  10307.100000   \n",
       "\n",
       "               total_students  number_programs  priority08  priority09  \\\n",
       "boro                                                                     \n",
       "Bronx              549.569892         1.344086         0.0         0.0   \n",
       "Brooklyn           751.556604         1.971698         0.0         0.0   \n",
       "Manhattan          633.588889         1.433333         0.0         0.0   \n",
       "Queens            1187.187500         2.390625         0.0         0.0   \n",
       "Staten Island     1847.500000         5.000000         0.0         0.0   \n",
       "\n",
       "               priority10        lat        lon  \n",
       "boro                                             \n",
       "Bronx                 0.0  40.845473 -73.890973  \n",
       "Brooklyn              0.0  40.665555 -73.947829  \n",
       "Manhattan             0.0  40.766244 -73.975350  \n",
       "Queens                0.0  40.715715 -73.836422  \n",
       "Staten Island         0.0  40.595680 -74.125726  \n",
       "\n",
       "[5 rows x 67 columns]"
      ]
     },
     "execution_count": 16,
     "metadata": {},
     "output_type": "execute_result"
    }
   ],
   "source": [
    "boro_safety = combined.groupby(\"boro\").agg(numpy.mean)\n",
    "boro_safety"
   ]
  },
  {
   "cell_type": "code",
   "execution_count": 17,
   "metadata": {},
   "outputs": [
    {
     "data": {
      "text/html": [
       "<div>\n",
       "<style scoped>\n",
       "    .dataframe tbody tr th:only-of-type {\n",
       "        vertical-align: middle;\n",
       "    }\n",
       "\n",
       "    .dataframe tbody tr th {\n",
       "        vertical-align: top;\n",
       "    }\n",
       "\n",
       "    .dataframe thead th {\n",
       "        text-align: right;\n",
       "    }\n",
       "</style>\n",
       "<table border=\"1\" class=\"dataframe\">\n",
       "  <thead>\n",
       "    <tr style=\"text-align: right;\">\n",
       "      <th></th>\n",
       "      <th>saf_p_11</th>\n",
       "      <th>saf_t_11</th>\n",
       "      <th>saf_s_11</th>\n",
       "      <th>saf_tot_11</th>\n",
       "    </tr>\n",
       "    <tr>\n",
       "      <th>boro</th>\n",
       "      <th></th>\n",
       "      <th></th>\n",
       "      <th></th>\n",
       "      <th></th>\n",
       "    </tr>\n",
       "  </thead>\n",
       "  <tbody>\n",
       "    <tr>\n",
       "      <th>Bronx</th>\n",
       "      <td>8.346237</td>\n",
       "      <td>7.026882</td>\n",
       "      <td>6.606577</td>\n",
       "      <td>7.322581</td>\n",
       "    </tr>\n",
       "    <tr>\n",
       "      <th>Brooklyn</th>\n",
       "      <td>8.036792</td>\n",
       "      <td>6.985849</td>\n",
       "      <td>6.370755</td>\n",
       "      <td>7.129245</td>\n",
       "    </tr>\n",
       "    <tr>\n",
       "      <th>Manhattan</th>\n",
       "      <td>8.288889</td>\n",
       "      <td>7.287778</td>\n",
       "      <td>6.831370</td>\n",
       "      <td>7.473333</td>\n",
       "    </tr>\n",
       "    <tr>\n",
       "      <th>Queens</th>\n",
       "      <td>8.098437</td>\n",
       "      <td>7.365625</td>\n",
       "      <td>6.721875</td>\n",
       "      <td>7.387500</td>\n",
       "    </tr>\n",
       "    <tr>\n",
       "      <th>Staten Island</th>\n",
       "      <td>7.800000</td>\n",
       "      <td>7.210000</td>\n",
       "      <td>6.530000</td>\n",
       "      <td>7.200000</td>\n",
       "    </tr>\n",
       "  </tbody>\n",
       "</table>\n",
       "</div>"
      ],
      "text/plain": [
       "               saf_p_11  saf_t_11  saf_s_11  saf_tot_11\n",
       "boro                                                   \n",
       "Bronx          8.346237  7.026882  6.606577    7.322581\n",
       "Brooklyn       8.036792  6.985849  6.370755    7.129245\n",
       "Manhattan      8.288889  7.287778  6.831370    7.473333\n",
       "Queens         8.098437  7.365625  6.721875    7.387500\n",
       "Staten Island  7.800000  7.210000  6.530000    7.200000"
      ]
     },
     "execution_count": 17,
     "metadata": {},
     "output_type": "execute_result"
    }
   ],
   "source": [
    "safety_cols = ['saf_p_11', 'saf_t_11', 'saf_s_11', 'saf_tot_11']\n",
    "boro_safety = boro_safety[safety_cols]\n",
    "boro_safety"
   ]
  },
  {
   "cell_type": "markdown",
   "metadata": {},
   "source": [
    "The average total safety score is highest in Manhattan and lowest in Brooklyn. Parents give the highest average safety score to the Bronx, and the lowest to Staten Island. Teachers rate Queens as the safest and Brooklyn as the least safe. Students give the highest average safety score to Manhattan, and the lowest to Brooklyn. In general, parents rate Boroughs as safer than either students or teachers (on average, at least one point higher than student's scores). Students give the lowest safety scores of the three groups. Teachers and students agree that Manhattan and Queens are safer and Brooklyn is less safe. "
   ]
  },
  {
   "cell_type": "markdown",
   "metadata": {},
   "source": [
    "# Racial differences in SAT scores"
   ]
  },
  {
   "cell_type": "code",
   "execution_count": 18,
   "metadata": {},
   "outputs": [
    {
     "data": {
      "text/plain": [
       "white_per       0.620718\n",
       "asian_per       0.570730\n",
       "black_per      -0.284139\n",
       "hispanic_per   -0.396985\n",
       "sat_score       1.000000\n",
       "Name: sat_score, dtype: float64"
      ]
     },
     "execution_count": 18,
     "metadata": {},
     "output_type": "execute_result"
    }
   ],
   "source": [
    "race_sat_cols = ['white_per', 'asian_per', 'black_per', 'hispanic_per', 'sat_score']\n",
    "race_corr = combined[race_sat_cols].corr()\n",
    "race_corr = race_corr['sat_score']\n",
    "race_corr"
   ]
  },
  {
   "cell_type": "markdown",
   "metadata": {},
   "source": [
    "There are positive correlations with SAT scores and the percentage of white students (0.62) and asian students (0.57). There are negative correlations between SAT scores and the percentage of black (-0.28) and hispanic (-0.4) students. "
   ]
  },
  {
   "cell_type": "markdown",
   "metadata": {},
   "source": [
    "## SAT scores and percent of Hispanic students"
   ]
  },
  {
   "cell_type": "code",
   "execution_count": 19,
   "metadata": {},
   "outputs": [
    {
     "data": {
      "image/png": "[encoded data removed]",
      "text/plain": [
       "<Figure size 600x400 with 1 Axes>"
      ]
     },
     "metadata": {},
     "output_type": "display_data"
    }
   ],
   "source": [
    "combined.plot.scatter('hispanic_per', 'sat_score')\n",
    "plt.show()"
   ]
  },
  {
   "cell_type": "markdown",
   "metadata": {},
   "source": [
    "The scatterplot of the percentage of hispanic students and SAT scores shows that low SAT scores occur at all rates of hispanic student enrollment. However, high SAT scores are from schools with a low percentage of hispanic students. Schools with a high percentage of hispanic students have no high scores. "
   ]
  },
  {
   "cell_type": "markdown",
   "metadata": {},
   "source": [
    "Next, I will look at schools with `hispanic_per` greater than `95%`. "
   ]
  },
  {
   "cell_type": "code",
   "execution_count": 20,
   "metadata": {},
   "outputs": [
    {
     "name": "stdout",
     "output_type": "stream",
     "text": [
      "44                         MANHATTAN BRIDGES HIGH SCHOOL\n",
      "82      WASHINGTON HEIGHTS EXPEDITIONARY LEARNING SCHOOL\n",
      "89     GREGORIO LUPERON HIGH SCHOOL FOR SCIENCE AND M...\n",
      "125                  ACADEMY FOR LANGUAGE AND TECHNOLOGY\n",
      "141                INTERNATIONAL SCHOOL FOR LIBERAL ARTS\n",
      "176     PAN AMERICAN INTERNATIONAL HIGH SCHOOL AT MONROE\n",
      "253                            MULTICULTURAL HIGH SCHOOL\n",
      "286               PAN AMERICAN INTERNATIONAL HIGH SCHOOL\n",
      "Name: SCHOOL NAME, dtype: object\n"
     ]
    }
   ],
   "source": [
    "schools_95hispanic = combined['SCHOOL NAME'][combined['hispanic_per'] > 95]\n",
    "print(schools_95hispanic)"
   ]
  },
  {
   "cell_type": "markdown",
   "metadata": {},
   "source": [
    "The majority of these school have student populations that  are over 90% economically disadvantaged. "
   ]
  },
  {
   "cell_type": "markdown",
   "metadata": {},
   "source": [
    "# Gender and SAT scores"
   ]
  },
  {
   "cell_type": "code",
   "execution_count": 21,
   "metadata": {},
   "outputs": [
    {
     "data": {
      "text/plain": [
       "male_per     -0.112062\n",
       "female_per    0.112108\n",
       "Name: sat_score, dtype: float64"
      ]
     },
     "execution_count": 21,
     "metadata": {},
     "output_type": "execute_result"
    }
   ],
   "source": [
    "gender_sat_cols = ['male_per', 'female_per', 'sat_score']\n",
    "gender_corr = combined[gender_sat_cols].corr()\n",
    "gender_corr = gender_corr['sat_score']\n",
    "gender_corr[0:2]"
   ]
  },
  {
   "cell_type": "code",
   "execution_count": 22,
   "metadata": {},
   "outputs": [
    {
     "data": {
      "image/png": "[encoded data removed]",
      "text/plain": [
       "<Figure size 600x400 with 1 Axes>"
      ]
     },
     "metadata": {},
     "output_type": "display_data"
    }
   ],
   "source": [
    "gender_corr[0:2].plot.bar()\n",
    "plt.show()"
   ]
  },
  {
   "cell_type": "markdown",
   "metadata": {},
   "source": [
    "A higher percentage of male students is associated with a lower score, while a higher percentage of female students is associated with a higher SAT score. The correlations are relatively small (<|12|). "
   ]
  },
  {
   "cell_type": "code",
   "execution_count": 23,
   "metadata": {},
   "outputs": [
    {
     "data": {
      "image/png": "[encoded data removed]",
      "text/plain": [
       "<Figure size 600x400 with 1 Axes>"
      ]
     },
     "metadata": {},
     "output_type": "display_data"
    }
   ],
   "source": [
    "combined.plot.scatter('female_per', 'sat_score')\n",
    "plt.show()"
   ]
  },
  {
   "cell_type": "markdown",
   "metadata": {},
   "source": [
    "The majority of the points are clustered around 40-60% female and average scores, which makes sense, as most schools have an approximately equal gender split. There is a spike of high-scoring schools around 40% female, and another between 60-80% female schools. The few schools with 100% female populations have median scores. "
   ]
  },
  {
   "cell_type": "code",
   "execution_count": 24,
   "metadata": {},
   "outputs": [
    {
     "data": {
      "text/plain": [
       "5                         BARD HIGH SCHOOL EARLY COLLEGE\n",
       "26                         ELEANOR ROOSEVELT HIGH SCHOOL\n",
       "60                                    BEACON HIGH SCHOOL\n",
       "61     FIORELLO H. LAGUARDIA HIGH SCHOOL OF MUSIC & A...\n",
       "302                          TOWNSEND HARRIS HIGH SCHOOL\n",
       "Name: SCHOOL NAME, dtype: object"
      ]
     },
     "execution_count": 24,
     "metadata": {},
     "output_type": "execute_result"
    }
   ],
   "source": [
    "combined_female60 = combined[combined['female_per']>60]\n",
    "schools_female60_score1700 = combined_female60['SCHOOL NAME'][combined_female60['sat_score']>1700]\n",
    "schools_female60_score1700"
   ]
  },
  {
   "cell_type": "markdown",
   "metadata": {},
   "source": [
    "The Fiorello H. LaGuardia High School of Music & Art and Performing Arts is one of nine specialized public high schools in New York, and requires a portfolio or audition for admission. Bard High School Early College is a private high school and two-year college program. Townsend Harris High School is a magnet high school, also selective. The others are high-performing public schools. "
   ]
  },
  {
   "cell_type": "markdown",
   "metadata": {},
   "source": [
    "# Exploring AP Scores vs. SAT Scores"
   ]
  },
  {
   "cell_type": "markdown",
   "metadata": {},
   "source": [
    "Calculate the percentage of students in each school that took an AP exam"
   ]
  },
  {
   "cell_type": "code",
   "execution_count": 25,
   "metadata": {},
   "outputs": [],
   "source": [
    "combined['ap_per'] = combined['AP Test Takers ']/combined['total_enrollment']"
   ]
  },
  {
   "cell_type": "code",
   "execution_count": 26,
   "metadata": {},
   "outputs": [
    {
     "data": {
      "image/png": "[encoded data removed]",
      "text/plain": [
       "<Figure size 600x400 with 1 Axes>"
      ]
     },
     "metadata": {},
     "output_type": "display_data"
    }
   ],
   "source": [
    "combined.plot.scatter('ap_per', 'sat_score')\n",
    "plt.show()"
   ]
  },
  {
   "cell_type": "markdown",
   "metadata": {},
   "source": [
    "There is no clear linear relationship. There is a main cluster of points around average SAT scores and 5% AP test takers, and another around 30-40% test takers. The schools with the highest percentage of AP test-takers perform averagely on the SAT. "
   ]
  },
  {
   "cell_type": "markdown",
   "metadata": {},
   "source": [
    "# Class size and SAT scores"
   ]
  },
  {
   "cell_type": "code",
   "execution_count": 27,
   "metadata": {},
   "outputs": [
    {
     "data": {
      "image/png": "[encoded data removed]",
      "text/plain": [
       "<Figure size 600x400 with 1 Axes>"
      ]
     },
     "metadata": {},
     "output_type": "display_data"
    }
   ],
   "source": [
    "combined.plot.scatter('AVERAGE CLASS SIZE', 'sat_score')\n",
    "plt.show()"
   ]
  },
  {
   "cell_type": "markdown",
   "metadata": {},
   "source": [
    "There appears to be a slight positive correlation between class size and SAT scores."
   ]
  },
  {
   "cell_type": "code",
   "execution_count": 31,
   "metadata": {},
   "outputs": [
    {
     "data": {
      "text/plain": [
       "sat_score             1.000000\n",
       "AVERAGE CLASS SIZE    0.381014\n",
       "Name: sat_score, dtype: float64"
      ]
     },
     "execution_count": 31,
     "metadata": {},
     "output_type": "execute_result"
    }
   ],
   "source": [
    "classsize_corr = combined[['sat_score', 'AVERAGE CLASS SIZE']].corr()\n",
    "classsize_corr = classsize_corr['sat_score']\n",
    "classsize_corr"
   ]
  },
  {
   "cell_type": "markdown",
   "metadata": {},
   "source": [
    "There is a 0.38 correlation between class size and SAT scores. One might expect smaller classes to perform better on the SAT, with more attention from teachers. In large classes, it may be more likely for a couple high-scoring students to drag the average up. "
   ]
  },
  {
   "cell_type": "code",
   "execution_count": null,
   "metadata": {},
   "outputs": [],
   "source": []
  }
 ],
 "metadata": {
  "kernelspec": {
   "display_name": "Python 3",
   "language": "python",
   "name": "python3"
  },
  "language_info": {
   "codemirror_mode": {
    "name": "ipython",
    "version": 3
   },
   "file_extension": ".py",
   "mimetype": "text/x-python",
   "name": "python",
   "nbconvert_exporter": "python",
   "pygments_lexer": "ipython3",
   "version": "3.8.2"
  }
 },
 "nbformat": 4,
 "nbformat_minor": 2
}
