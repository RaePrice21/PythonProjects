{
 "cells": [
  {
   "cell_type": "markdown",
   "metadata": {},
   "source": [
    "# SQL Guided Project: Analyzing CIA Factbook Data"
   ]
  },
  {
   "cell_type": "markdown",
   "metadata": {},
   "source": [
    "This project will use data from the [CIA World Factbook](https://www.cia.gov/the-world-factbook/). It contains information about all countries, with variables such as area, population, and birth and death rates."
   ]
  },
  {
   "cell_type": "markdown",
   "metadata": {},
   "source": [
    "## Data overview"
   ]
  },
  {
   "cell_type": "code",
   "execution_count": 1,
   "metadata": {},
   "outputs": [],
   "source": [
    "%%capture\n",
    "%load_ext sql\n",
    "%sql sqlite:///factbook.db #read in the data"
   ]
  },
  {
   "cell_type": "code",
   "execution_count": 2,
   "metadata": {},
   "outputs": [
    {
     "name": "stdout",
     "output_type": "stream",
     "text": [
      " * sqlite:///factbook.db\n",
      "Done.\n"
     ]
    },
    {
     "data": {
      "text/html": [
       "<table>\n",
       "    <thead>\n",
       "        <tr>\n",
       "            <th>id</th>\n",
       "            <th>code</th>\n",
       "            <th>name</th>\n",
       "            <th>area</th>\n",
       "            <th>area_land</th>\n",
       "            <th>area_water</th>\n",
       "            <th>population</th>\n",
       "            <th>population_growth</th>\n",
       "            <th>birth_rate</th>\n",
       "            <th>death_rate</th>\n",
       "            <th>migration_rate</th>\n",
       "        </tr>\n",
       "    </thead>\n",
       "    <tbody>\n",
       "        <tr>\n",
       "            <td>1</td>\n",
       "            <td>af</td>\n",
       "            <td>Afghanistan</td>\n",
       "            <td>652230</td>\n",
       "            <td>652230</td>\n",
       "            <td>0</td>\n",
       "            <td>32564342</td>\n",
       "            <td>2.32</td>\n",
       "            <td>38.57</td>\n",
       "            <td>13.89</td>\n",
       "            <td>1.51</td>\n",
       "        </tr>\n",
       "        <tr>\n",
       "            <td>2</td>\n",
       "            <td>al</td>\n",
       "            <td>Albania</td>\n",
       "            <td>28748</td>\n",
       "            <td>27398</td>\n",
       "            <td>1350</td>\n",
       "            <td>3029278</td>\n",
       "            <td>0.3</td>\n",
       "            <td>12.92</td>\n",
       "            <td>6.58</td>\n",
       "            <td>3.3</td>\n",
       "        </tr>\n",
       "        <tr>\n",
       "            <td>3</td>\n",
       "            <td>ag</td>\n",
       "            <td>Algeria</td>\n",
       "            <td>2381741</td>\n",
       "            <td>2381741</td>\n",
       "            <td>0</td>\n",
       "            <td>39542166</td>\n",
       "            <td>1.84</td>\n",
       "            <td>23.67</td>\n",
       "            <td>4.31</td>\n",
       "            <td>0.92</td>\n",
       "        </tr>\n",
       "        <tr>\n",
       "            <td>4</td>\n",
       "            <td>an</td>\n",
       "            <td>Andorra</td>\n",
       "            <td>468</td>\n",
       "            <td>468</td>\n",
       "            <td>0</td>\n",
       "            <td>85580</td>\n",
       "            <td>0.12</td>\n",
       "            <td>8.13</td>\n",
       "            <td>6.96</td>\n",
       "            <td>0.0</td>\n",
       "        </tr>\n",
       "        <tr>\n",
       "            <td>5</td>\n",
       "            <td>ao</td>\n",
       "            <td>Angola</td>\n",
       "            <td>1246700</td>\n",
       "            <td>1246700</td>\n",
       "            <td>0</td>\n",
       "            <td>19625353</td>\n",
       "            <td>2.78</td>\n",
       "            <td>38.78</td>\n",
       "            <td>11.49</td>\n",
       "            <td>0.46</td>\n",
       "        </tr>\n",
       "    </tbody>\n",
       "</table>"
      ],
      "text/plain": [
       "[(1, 'af', 'Afghanistan', 652230, 652230, 0, 32564342, 2.32, 38.57, 13.89, 1.51),\n",
       " (2, 'al', 'Albania', 28748, 27398, 1350, 3029278, 0.3, 12.92, 6.58, 3.3),\n",
       " (3, 'ag', 'Algeria', 2381741, 2381741, 0, 39542166, 1.84, 23.67, 4.31, 0.92),\n",
       " (4, 'an', 'Andorra', 468, 468, 0, 85580, 0.12, 8.13, 6.96, 0.0),\n",
       " (5, 'ao', 'Angola', 1246700, 1246700, 0, 19625353, 2.78, 38.78, 11.49, 0.46)]"
      ]
     },
     "execution_count": 2,
     "metadata": {},
     "output_type": "execute_result"
    }
   ],
   "source": [
    "%%sql \n",
    "SELECT *\n",
    "    FROM facts\n",
    "    LIMIT 5\n",
    "  ;"
   ]
  },
  {
   "cell_type": "markdown",
   "metadata": {},
   "source": [
    "Some additional information about the columns:\n",
    "- `population_growth` shows the annual population growth rate as a percentage.\n",
    "- Areas are in square kilometers. \n",
    "- Birth and death rates are per 1,000 people."
   ]
  },
  {
   "cell_type": "markdown",
   "metadata": {},
   "source": [
    "## Population statistics"
   ]
  },
  {
   "cell_type": "markdown",
   "metadata": {},
   "source": [
    "### Find the minimum and maximum of `population` and `population_growth`:"
   ]
  },
  {
   "cell_type": "code",
   "execution_count": 3,
   "metadata": {},
   "outputs": [
    {
     "name": "stdout",
     "output_type": "stream",
     "text": [
      " * sqlite:///factbook.db\n",
      "Done.\n"
     ]
    },
    {
     "data": {
      "text/html": [
       "<table>\n",
       "    <thead>\n",
       "        <tr>\n",
       "            <th>Lowest Population</th>\n",
       "            <th>Highest Population</th>\n",
       "            <th>Lowest Population Growth</th>\n",
       "            <th>Highest Population Growth</th>\n",
       "        </tr>\n",
       "    </thead>\n",
       "    <tbody>\n",
       "        <tr>\n",
       "            <td>0</td>\n",
       "            <td>7256490011</td>\n",
       "            <td>0.0</td>\n",
       "            <td>4.02</td>\n",
       "        </tr>\n",
       "    </tbody>\n",
       "</table>"
      ],
      "text/plain": [
       "[(0, 7256490011, 0.0, 4.02)]"
      ]
     },
     "execution_count": 3,
     "metadata": {},
     "output_type": "execute_result"
    }
   ],
   "source": [
    "%%sql\n",
    "SELECT MIN(population) AS 'Lowest Population', MAX(population) AS 'Highest Population', \n",
    "       MIN(population_growth) AS 'Lowest Population Growth', MAX(population_growth) AS 'Highest Population Growth'\n",
    "    FROM facts\n",
    "    ;"
   ]
  },
  {
   "cell_type": "markdown",
   "metadata": {},
   "source": [
    "There are abnormalities here: one country has a population of zero, and another has a population of over 7.2 billion, equal to most of the world's population."
   ]
  },
  {
   "cell_type": "markdown",
   "metadata": {},
   "source": [
    "Return countries matching the value of the lowest population:"
   ]
  },
  {
   "cell_type": "code",
   "execution_count": 4,
   "metadata": {},
   "outputs": [
    {
     "name": "stdout",
     "output_type": "stream",
     "text": [
      " * sqlite:///factbook.db\n",
      "Done.\n"
     ]
    },
    {
     "data": {
      "text/html": [
       "<table>\n",
       "    <thead>\n",
       "        <tr>\n",
       "            <th>Country</th>\n",
       "        </tr>\n",
       "    </thead>\n",
       "    <tbody>\n",
       "        <tr>\n",
       "            <td>Antarctica</td>\n",
       "        </tr>\n",
       "    </tbody>\n",
       "</table>"
      ],
      "text/plain": [
       "[('Antarctica',)]"
      ]
     },
     "execution_count": 4,
     "metadata": {},
     "output_type": "execute_result"
    }
   ],
   "source": [
    "%%sql\n",
    "SELECT name AS Country\n",
    "    FROM facts\n",
    "  WHERE population = (SELECT MIN(population)\n",
    "                            FROM facts)\n",
    "  ;"
   ]
  },
  {
   "cell_type": "markdown",
   "metadata": {},
   "source": [
    "Return countries matching the value of the highest population:"
   ]
  },
  {
   "cell_type": "code",
   "execution_count": 5,
   "metadata": {},
   "outputs": [
    {
     "name": "stdout",
     "output_type": "stream",
     "text": [
      " * sqlite:///factbook.db\n",
      "Done.\n"
     ]
    },
    {
     "data": {
      "text/html": [
       "<table>\n",
       "    <thead>\n",
       "        <tr>\n",
       "            <th>Country</th>\n",
       "        </tr>\n",
       "    </thead>\n",
       "    <tbody>\n",
       "        <tr>\n",
       "            <td>World</td>\n",
       "        </tr>\n",
       "    </tbody>\n",
       "</table>"
      ],
      "text/plain": [
       "[('World',)]"
      ]
     },
     "execution_count": 5,
     "metadata": {},
     "output_type": "execute_result"
    }
   ],
   "source": [
    "%%sql\n",
    "SELECT name AS Country\n",
    "    FROM facts\n",
    "  WHERE population = (SELECT MAX(population)\n",
    "                            FROM facts)\n",
    "  ;"
   ]
  },
  {
   "cell_type": "markdown",
   "metadata": {},
   "source": [
    "The abberant rows are `Antarctica`, with a population of zero, and `World`. The row representing the whole world should be excluded from the summary statistics:"
   ]
  },
  {
   "cell_type": "code",
   "execution_count": 6,
   "metadata": {},
   "outputs": [
    {
     "name": "stdout",
     "output_type": "stream",
     "text": [
      " * sqlite:///factbook.db\n",
      "Done.\n"
     ]
    },
    {
     "data": {
      "text/html": [
       "<table>\n",
       "    <thead>\n",
       "        <tr>\n",
       "            <th>Lowest Population</th>\n",
       "            <th>Highest Population</th>\n",
       "            <th>Lowest Population Growth</th>\n",
       "            <th>Highest Population Growth</th>\n",
       "        </tr>\n",
       "    </thead>\n",
       "    <tbody>\n",
       "        <tr>\n",
       "            <td>0</td>\n",
       "            <td>1367485388</td>\n",
       "            <td>0.0</td>\n",
       "            <td>4.02</td>\n",
       "        </tr>\n",
       "    </tbody>\n",
       "</table>"
      ],
      "text/plain": [
       "[(0, 1367485388, 0.0, 4.02)]"
      ]
     },
     "execution_count": 6,
     "metadata": {},
     "output_type": "execute_result"
    }
   ],
   "source": [
    "%%sql\n",
    "SELECT MIN(population) AS 'Lowest Population', MAX(population) AS 'Highest Population',\n",
    "       MIN(population_growth) AS 'Lowest Population Growth', MAX(population_growth) AS 'Highest Population Growth'\n",
    "    FROM facts\n",
    "  WHERE population < (SELECT MAX(population)\n",
    "                          FROM facts)\n",
    "    ;"
   ]
  },
  {
   "cell_type": "markdown",
   "metadata": {},
   "source": [
    "The highest population value is now over 1.3 billion. "
   ]
  },
  {
   "cell_type": "markdown",
   "metadata": {},
   "source": [
    "### Which country has the highest population?"
   ]
  },
  {
   "cell_type": "code",
   "execution_count": 16,
   "metadata": {},
   "outputs": [
    {
     "name": "stdout",
     "output_type": "stream",
     "text": [
      " * sqlite:///factbook.db\n",
      "Done.\n"
     ]
    },
    {
     "data": {
      "text/html": [
       "<table>\n",
       "    <thead>\n",
       "        <tr>\n",
       "            <th>name</th>\n",
       "            <th>population</th>\n",
       "        </tr>\n",
       "    </thead>\n",
       "    <tbody>\n",
       "        <tr>\n",
       "            <td>China</td>\n",
       "            <td>1367485388</td>\n",
       "        </tr>\n",
       "    </tbody>\n",
       "</table>"
      ],
      "text/plain": [
       "[('China', 1367485388)]"
      ]
     },
     "execution_count": 16,
     "metadata": {},
     "output_type": "execute_result"
    }
   ],
   "source": [
    "%%sql\n",
    "SELECT name, population\n",
    "    FROM facts\n",
    "    WHERE population < (SELECT MAX(population) \n",
    "                          FROM facts)\n",
    "    ORDER BY population DESC\n",
    "    LIMIT 1\n",
    "    ;"
   ]
  },
  {
   "cell_type": "markdown",
   "metadata": {},
   "source": [
    "China has the highest population."
   ]
  },
  {
   "cell_type": "markdown",
   "metadata": {},
   "source": [
    "### Which countries will add the most people to their populations next year?"
   ]
  },
  {
   "cell_type": "code",
   "execution_count": 8,
   "metadata": {},
   "outputs": [
    {
     "name": "stdout",
     "output_type": "stream",
     "text": [
      " * sqlite:///factbook.db\n",
      "Done.\n"
     ]
    },
    {
     "data": {
      "text/html": [
       "<table>\n",
       "    <thead>\n",
       "        <tr>\n",
       "            <th>Country</th>\n",
       "            <th>Population</th>\n",
       "            <th>Growth Rate</th>\n",
       "            <th>Additional Population</th>\n",
       "        </tr>\n",
       "    </thead>\n",
       "    <tbody>\n",
       "        <tr>\n",
       "            <td>India</td>\n",
       "            <td>1251695584</td>\n",
       "            <td>1.22</td>\n",
       "            <td>15270686</td>\n",
       "        </tr>\n",
       "        <tr>\n",
       "            <td>China</td>\n",
       "            <td>1367485388</td>\n",
       "            <td>0.45</td>\n",
       "            <td>6153684</td>\n",
       "        </tr>\n",
       "        <tr>\n",
       "            <td>Nigeria</td>\n",
       "            <td>181562056</td>\n",
       "            <td>2.45</td>\n",
       "            <td>4448270</td>\n",
       "        </tr>\n",
       "        <tr>\n",
       "            <td>Pakistan</td>\n",
       "            <td>199085847</td>\n",
       "            <td>1.46</td>\n",
       "            <td>2906653</td>\n",
       "        </tr>\n",
       "        <tr>\n",
       "            <td>Ethiopia</td>\n",
       "            <td>99465819</td>\n",
       "            <td>2.89</td>\n",
       "            <td>2874562</td>\n",
       "        </tr>\n",
       "        <tr>\n",
       "            <td>Bangladesh</td>\n",
       "            <td>168957745</td>\n",
       "            <td>1.6</td>\n",
       "            <td>2703324</td>\n",
       "        </tr>\n",
       "        <tr>\n",
       "            <td>United States</td>\n",
       "            <td>321368864</td>\n",
       "            <td>0.78</td>\n",
       "            <td>2506677</td>\n",
       "        </tr>\n",
       "        <tr>\n",
       "            <td>Indonesia</td>\n",
       "            <td>255993674</td>\n",
       "            <td>0.92</td>\n",
       "            <td>2355142</td>\n",
       "        </tr>\n",
       "        <tr>\n",
       "            <td>Congo, Democratic Republic of the</td>\n",
       "            <td>79375136</td>\n",
       "            <td>2.45</td>\n",
       "            <td>1944691</td>\n",
       "        </tr>\n",
       "        <tr>\n",
       "            <td>Philippines</td>\n",
       "            <td>100998376</td>\n",
       "            <td>1.61</td>\n",
       "            <td>1626074</td>\n",
       "        </tr>\n",
       "    </tbody>\n",
       "</table>"
      ],
      "text/plain": [
       "[('India', 1251695584, 1.22, 15270686),\n",
       " ('China', 1367485388, 0.45, 6153684),\n",
       " ('Nigeria', 181562056, 2.45, 4448270),\n",
       " ('Pakistan', 199085847, 1.46, 2906653),\n",
       " ('Ethiopia', 99465819, 2.89, 2874562),\n",
       " ('Bangladesh', 168957745, 1.6, 2703324),\n",
       " ('United States', 321368864, 0.78, 2506677),\n",
       " ('Indonesia', 255993674, 0.92, 2355142),\n",
       " ('Congo, Democratic Republic of the', 79375136, 2.45, 1944691),\n",
       " ('Philippines', 100998376, 1.61, 1626074)]"
      ]
     },
     "execution_count": 8,
     "metadata": {},
     "output_type": "execute_result"
    }
   ],
   "source": [
    "%%sql\n",
    "SELECT name AS Country, population AS Population, population_growth AS 'Growth Rate', \n",
    "        CAST(ROUND(population*population_growth/100, 0) AS INT) AS 'Additional Population'\n",
    "    FROM facts\n",
    "    WHERE population < (SELECT MAX(population)\n",
    "                          FROM facts) \n",
    "    ORDER BY CAST(ROUND(population*population_growth/100, 0) AS INT) DESC\n",
    "    LIMIT 10\n",
    "    ;"
   ]
  },
  {
   "cell_type": "markdown",
   "metadata": {},
   "source": [
    "India is set to add the most people to its population next year: over 15 million, more than twice the growth of any other country. China has the lowest population growth rate (0.45), but is still second due to having the highest population. "
   ]
  },
  {
   "cell_type": "markdown",
   "metadata": {},
   "source": [
    "### Which countries have a higher death rate than birth rate?"
   ]
  },
  {
   "cell_type": "code",
   "execution_count": 9,
   "metadata": {},
   "outputs": [
    {
     "name": "stdout",
     "output_type": "stream",
     "text": [
      " * sqlite:///factbook.db\n",
      "Done.\n"
     ]
    },
    {
     "data": {
      "text/html": [
       "<table>\n",
       "    <thead>\n",
       "        <tr>\n",
       "            <th>Country</th>\n",
       "            <th>Birth Rate</th>\n",
       "            <th>Death Rate</th>\n",
       "            <th>Death Rate - Birth Rate</th>\n",
       "        </tr>\n",
       "    </thead>\n",
       "    <tbody>\n",
       "        <tr>\n",
       "            <td>Bulgaria</td>\n",
       "            <td>8.92</td>\n",
       "            <td>14.44</td>\n",
       "            <td>5.52</td>\n",
       "        </tr>\n",
       "        <tr>\n",
       "            <td>Serbia</td>\n",
       "            <td>9.08</td>\n",
       "            <td>13.66</td>\n",
       "            <td>4.58</td>\n",
       "        </tr>\n",
       "        <tr>\n",
       "            <td>Latvia</td>\n",
       "            <td>10.0</td>\n",
       "            <td>14.31</td>\n",
       "            <td>4.31</td>\n",
       "        </tr>\n",
       "        <tr>\n",
       "            <td>Lithuania</td>\n",
       "            <td>10.1</td>\n",
       "            <td>14.27</td>\n",
       "            <td>4.17</td>\n",
       "        </tr>\n",
       "        <tr>\n",
       "            <td>Ukraine</td>\n",
       "            <td>10.72</td>\n",
       "            <td>14.46</td>\n",
       "            <td>3.74</td>\n",
       "        </tr>\n",
       "        <tr>\n",
       "            <td>Hungary</td>\n",
       "            <td>9.16</td>\n",
       "            <td>12.73</td>\n",
       "            <td>3.57</td>\n",
       "        </tr>\n",
       "        <tr>\n",
       "            <td>Germany</td>\n",
       "            <td>8.47</td>\n",
       "            <td>11.42</td>\n",
       "            <td>2.95</td>\n",
       "        </tr>\n",
       "        <tr>\n",
       "            <td>Slovenia</td>\n",
       "            <td>8.42</td>\n",
       "            <td>11.37</td>\n",
       "            <td>2.95</td>\n",
       "        </tr>\n",
       "        <tr>\n",
       "            <td>Romania</td>\n",
       "            <td>9.14</td>\n",
       "            <td>11.9</td>\n",
       "            <td>2.76</td>\n",
       "        </tr>\n",
       "        <tr>\n",
       "            <td>Croatia</td>\n",
       "            <td>9.45</td>\n",
       "            <td>12.18</td>\n",
       "            <td>2.73</td>\n",
       "        </tr>\n",
       "        <tr>\n",
       "            <td>Belarus</td>\n",
       "            <td>10.7</td>\n",
       "            <td>13.36</td>\n",
       "            <td>2.66</td>\n",
       "        </tr>\n",
       "        <tr>\n",
       "            <td>Monaco</td>\n",
       "            <td>6.65</td>\n",
       "            <td>9.24</td>\n",
       "            <td>2.59</td>\n",
       "        </tr>\n",
       "        <tr>\n",
       "            <td>Greece</td>\n",
       "            <td>8.66</td>\n",
       "            <td>11.09</td>\n",
       "            <td>2.43</td>\n",
       "        </tr>\n",
       "        <tr>\n",
       "            <td>Saint Pierre and Miquelon</td>\n",
       "            <td>7.42</td>\n",
       "            <td>9.72</td>\n",
       "            <td>2.3</td>\n",
       "        </tr>\n",
       "        <tr>\n",
       "            <td>Russia</td>\n",
       "            <td>11.6</td>\n",
       "            <td>13.69</td>\n",
       "            <td>2.09</td>\n",
       "        </tr>\n",
       "        <tr>\n",
       "            <td>Estonia</td>\n",
       "            <td>10.51</td>\n",
       "            <td>12.4</td>\n",
       "            <td>1.89</td>\n",
       "        </tr>\n",
       "        <tr>\n",
       "            <td>Portugal</td>\n",
       "            <td>9.27</td>\n",
       "            <td>11.02</td>\n",
       "            <td>1.75</td>\n",
       "        </tr>\n",
       "        <tr>\n",
       "            <td>Japan</td>\n",
       "            <td>7.93</td>\n",
       "            <td>9.51</td>\n",
       "            <td>1.58</td>\n",
       "        </tr>\n",
       "        <tr>\n",
       "            <td>Italy</td>\n",
       "            <td>8.74</td>\n",
       "            <td>10.19</td>\n",
       "            <td>1.45</td>\n",
       "        </tr>\n",
       "        <tr>\n",
       "            <td>Bosnia and Herzegovina</td>\n",
       "            <td>8.87</td>\n",
       "            <td>9.75</td>\n",
       "            <td>0.88</td>\n",
       "        </tr>\n",
       "        <tr>\n",
       "            <td>Czech Republic</td>\n",
       "            <td>9.63</td>\n",
       "            <td>10.34</td>\n",
       "            <td>0.71</td>\n",
       "        </tr>\n",
       "        <tr>\n",
       "            <td>Moldova</td>\n",
       "            <td>12.0</td>\n",
       "            <td>12.59</td>\n",
       "            <td>0.59</td>\n",
       "        </tr>\n",
       "        <tr>\n",
       "            <td>Poland</td>\n",
       "            <td>9.74</td>\n",
       "            <td>10.19</td>\n",
       "            <td>0.45</td>\n",
       "        </tr>\n",
       "        <tr>\n",
       "            <td>Austria</td>\n",
       "            <td>9.41</td>\n",
       "            <td>9.42</td>\n",
       "            <td>0.01</td>\n",
       "        </tr>\n",
       "    </tbody>\n",
       "</table>"
      ],
      "text/plain": [
       "[('Bulgaria', 8.92, 14.44, 5.52),\n",
       " ('Serbia', 9.08, 13.66, 4.58),\n",
       " ('Latvia', 10.0, 14.31, 4.31),\n",
       " ('Lithuania', 10.1, 14.27, 4.17),\n",
       " ('Ukraine', 10.72, 14.46, 3.74),\n",
       " ('Hungary', 9.16, 12.73, 3.57),\n",
       " ('Germany', 8.47, 11.42, 2.95),\n",
       " ('Slovenia', 8.42, 11.37, 2.95),\n",
       " ('Romania', 9.14, 11.9, 2.76),\n",
       " ('Croatia', 9.45, 12.18, 2.73),\n",
       " ('Belarus', 10.7, 13.36, 2.66),\n",
       " ('Monaco', 6.65, 9.24, 2.59),\n",
       " ('Greece', 8.66, 11.09, 2.43),\n",
       " ('Saint Pierre and Miquelon', 7.42, 9.72, 2.3),\n",
       " ('Russia', 11.6, 13.69, 2.09),\n",
       " ('Estonia', 10.51, 12.4, 1.89),\n",
       " ('Portugal', 9.27, 11.02, 1.75),\n",
       " ('Japan', 7.93, 9.51, 1.58),\n",
       " ('Italy', 8.74, 10.19, 1.45),\n",
       " ('Bosnia and Herzegovina', 8.87, 9.75, 0.88),\n",
       " ('Czech Republic', 9.63, 10.34, 0.71),\n",
       " ('Moldova', 12.0, 12.59, 0.59),\n",
       " ('Poland', 9.74, 10.19, 0.45),\n",
       " ('Austria', 9.41, 9.42, 0.01)]"
      ]
     },
     "execution_count": 9,
     "metadata": {},
     "output_type": "execute_result"
    }
   ],
   "source": [
    "%%sql\n",
    "SELECT name AS Country, birth_rate AS 'Birth Rate', death_rate AS 'Death Rate', \n",
    "       ROUND(death_rate - birth_rate, 2) AS 'Death Rate - Birth Rate'\n",
    "    FROM facts\n",
    "    WHERE death_rate > birth_rate\n",
    "    ORDER BY death_rate - birth_rate DESC\n",
    "    ;"
   ]
  },
  {
   "cell_type": "markdown",
   "metadata": {},
   "source": [
    "Twenty-four countries have a higher death rate than birth rate. Many of the countries are in Central and Eastern Europe. Bulgaria has the largest difference between death rate and birth rate. "
   ]
  },
  {
   "cell_type": "markdown",
   "metadata": {},
   "source": [
    "## Identifying densely-populated countries"
   ]
  },
  {
   "cell_type": "markdown",
   "metadata": {},
   "source": [
    "Calculate the average values for `population` and `area`:"
   ]
  },
  {
   "cell_type": "code",
   "execution_count": 10,
   "metadata": {},
   "outputs": [
    {
     "name": "stdout",
     "output_type": "stream",
     "text": [
      " * sqlite:///factbook.db\n",
      "Done.\n"
     ]
    },
    {
     "data": {
      "text/html": [
       "<table>\n",
       "    <thead>\n",
       "        <tr>\n",
       "            <th>Average Population</th>\n",
       "            <th>Average Area</th>\n",
       "        </tr>\n",
       "    </thead>\n",
       "    <tbody>\n",
       "        <tr>\n",
       "            <td>62094928.0</td>\n",
       "            <td>555093.5</td>\n",
       "        </tr>\n",
       "    </tbody>\n",
       "</table>"
      ],
      "text/plain": [
       "[(62094928.0, 555093.5)]"
      ]
     },
     "execution_count": 10,
     "metadata": {},
     "output_type": "execute_result"
    }
   ],
   "source": [
    "%%sql\n",
    "SELECT ROUND(AVG(population), 0) AS 'Average Population', ROUND(AVG(area), 1) AS 'Average Area'\n",
    "    FROM facts\n",
    "    ;"
   ]
  },
  {
   "cell_type": "markdown",
   "metadata": {},
   "source": [
    "### Identify countries that have above-average values for `population` and below-average values for `area`:"
   ]
  },
  {
   "cell_type": "code",
   "execution_count": 11,
   "metadata": {},
   "outputs": [
    {
     "name": "stdout",
     "output_type": "stream",
     "text": [
      " * sqlite:///factbook.db\n",
      "Done.\n"
     ]
    },
    {
     "data": {
      "text/html": [
       "<table>\n",
       "    <thead>\n",
       "        <tr>\n",
       "            <th>name</th>\n",
       "            <th>area</th>\n",
       "            <th>population</th>\n",
       "        </tr>\n",
       "    </thead>\n",
       "    <tbody>\n",
       "        <tr>\n",
       "            <td>Bangladesh</td>\n",
       "            <td>148460</td>\n",
       "            <td>168957745</td>\n",
       "        </tr>\n",
       "        <tr>\n",
       "            <td>Germany</td>\n",
       "            <td>357022</td>\n",
       "            <td>80854408</td>\n",
       "        </tr>\n",
       "        <tr>\n",
       "            <td>Japan</td>\n",
       "            <td>377915</td>\n",
       "            <td>126919659</td>\n",
       "        </tr>\n",
       "        <tr>\n",
       "            <td>Philippines</td>\n",
       "            <td>300000</td>\n",
       "            <td>100998376</td>\n",
       "        </tr>\n",
       "        <tr>\n",
       "            <td>Thailand</td>\n",
       "            <td>513120</td>\n",
       "            <td>67976405</td>\n",
       "        </tr>\n",
       "        <tr>\n",
       "            <td>United Kingdom</td>\n",
       "            <td>243610</td>\n",
       "            <td>64088222</td>\n",
       "        </tr>\n",
       "        <tr>\n",
       "            <td>Vietnam</td>\n",
       "            <td>331210</td>\n",
       "            <td>94348835</td>\n",
       "        </tr>\n",
       "    </tbody>\n",
       "</table>"
      ],
      "text/plain": [
       "[('Bangladesh', 148460, 168957745),\n",
       " ('Germany', 357022, 80854408),\n",
       " ('Japan', 377915, 126919659),\n",
       " ('Philippines', 300000, 100998376),\n",
       " ('Thailand', 513120, 67976405),\n",
       " ('United Kingdom', 243610, 64088222),\n",
       " ('Vietnam', 331210, 94348835)]"
      ]
     },
     "execution_count": 11,
     "metadata": {},
     "output_type": "execute_result"
    }
   ],
   "source": [
    "%%sql\n",
    "SELECT name, area, population\n",
    "    FROM facts\n",
    "  WHERE population > (SELECT AVG(population)\n",
    "                          FROM facts)\n",
    "        AND area < (SELECT AVG(area)\n",
    "                           FROM facts)\n",
    "    ;"
   ]
  },
  {
   "cell_type": "markdown",
   "metadata": {},
   "source": [
    "Seven countries have above-average population and below-average population."
   ]
  },
  {
   "cell_type": "markdown",
   "metadata": {},
   "source": [
    "### Calculate population density (`population`/`area`):"
   ]
  },
  {
   "cell_type": "code",
   "execution_count": 12,
   "metadata": {},
   "outputs": [
    {
     "name": "stdout",
     "output_type": "stream",
     "text": [
      " * sqlite:///factbook.db\n",
      "Done.\n"
     ]
    },
    {
     "data": {
      "text/html": [
       "<table>\n",
       "    <thead>\n",
       "        <tr>\n",
       "            <th>name</th>\n",
       "            <th>People/sq km</th>\n",
       "        </tr>\n",
       "    </thead>\n",
       "    <tbody>\n",
       "        <tr>\n",
       "            <td>Macau</td>\n",
       "            <td>21168</td>\n",
       "        </tr>\n",
       "        <tr>\n",
       "            <td>Monaco</td>\n",
       "            <td>15267</td>\n",
       "        </tr>\n",
       "        <tr>\n",
       "            <td>Singapore</td>\n",
       "            <td>8141</td>\n",
       "        </tr>\n",
       "        <tr>\n",
       "            <td>Hong Kong</td>\n",
       "            <td>6445</td>\n",
       "        </tr>\n",
       "        <tr>\n",
       "            <td>Gaza Strip</td>\n",
       "            <td>5191</td>\n",
       "        </tr>\n",
       "        <tr>\n",
       "            <td>Gibraltar</td>\n",
       "            <td>4876</td>\n",
       "        </tr>\n",
       "        <tr>\n",
       "            <td>Bahrain</td>\n",
       "            <td>1771</td>\n",
       "        </tr>\n",
       "        <tr>\n",
       "            <td>Maldives</td>\n",
       "            <td>1319</td>\n",
       "        </tr>\n",
       "        <tr>\n",
       "            <td>Malta</td>\n",
       "            <td>1310</td>\n",
       "        </tr>\n",
       "        <tr>\n",
       "            <td>Bermuda</td>\n",
       "            <td>1299</td>\n",
       "        </tr>\n",
       "    </tbody>\n",
       "</table>"
      ],
      "text/plain": [
       "[('Macau', 21168),\n",
       " ('Monaco', 15267),\n",
       " ('Singapore', 8141),\n",
       " ('Hong Kong', 6445),\n",
       " ('Gaza Strip', 5191),\n",
       " ('Gibraltar', 4876),\n",
       " ('Bahrain', 1771),\n",
       " ('Maldives', 1319),\n",
       " ('Malta', 1310),\n",
       " ('Bermuda', 1299)]"
      ]
     },
     "execution_count": 12,
     "metadata": {},
     "output_type": "execute_result"
    }
   ],
   "source": [
    "%%sql\n",
    "SELECT name, population/area AS 'People/sq km'\n",
    "    FROM facts\n",
    "    ORDER BY population/area DESC\n",
    "    LIMIT 10\n",
    "    ;"
   ]
  },
  {
   "cell_type": "markdown",
   "metadata": {},
   "source": [
    "Macau, a city and special administrative region in China, is classified as a country here. It is indeed the most densely populated region in the world. The first list of countries with above-average population and below-average area was not helpful in identifying the countries with the true highest population density. Many of the highly dense countries from the list are small and would not have an above-average population, just a very dense one. "
   ]
  },
  {
   "cell_type": "markdown",
   "metadata": {},
   "source": [
    "## Water to land ratio"
   ]
  },
  {
   "cell_type": "markdown",
   "metadata": {},
   "source": [
    "### Which countries have more water than land?"
   ]
  },
  {
   "cell_type": "code",
   "execution_count": 13,
   "metadata": {},
   "outputs": [
    {
     "name": "stdout",
     "output_type": "stream",
     "text": [
      " * sqlite:///factbook.db\n",
      "Done.\n"
     ]
    },
    {
     "data": {
      "text/html": [
       "<table>\n",
       "    <thead>\n",
       "        <tr>\n",
       "            <th>Country</th>\n",
       "            <th>area_land</th>\n",
       "            <th>area_water</th>\n",
       "        </tr>\n",
       "    </thead>\n",
       "    <tbody>\n",
       "        <tr>\n",
       "            <td>British Indian Ocean Territory</td>\n",
       "            <td>60</td>\n",
       "            <td>54340</td>\n",
       "        </tr>\n",
       "        <tr>\n",
       "            <td>Virgin Islands</td>\n",
       "            <td>346</td>\n",
       "            <td>1564</td>\n",
       "        </tr>\n",
       "    </tbody>\n",
       "</table>"
      ],
      "text/plain": [
       "[('British Indian Ocean Territory', 60, 54340), ('Virgin Islands', 346, 1564)]"
      ]
     },
     "execution_count": 13,
     "metadata": {},
     "output_type": "execute_result"
    }
   ],
   "source": [
    "%%sql\n",
    "SELECT name AS Country, area_land, area_water\n",
    "    FROM facts\n",
    "    WHERE area_water > area_land\n",
    "    ;"
   ]
  },
  {
   "cell_type": "markdown",
   "metadata": {},
   "source": [
    "Only two countries, British Indian Ocean Territory and the Virgin Islands, have more water than land. "
   ]
  },
  {
   "cell_type": "markdown",
   "metadata": {},
   "source": [
    "### Which countries have the highest ratios of water to land? "
   ]
  },
  {
   "cell_type": "code",
   "execution_count": 14,
   "metadata": {},
   "outputs": [
    {
     "name": "stdout",
     "output_type": "stream",
     "text": [
      " * sqlite:///factbook.db\n",
      "Done.\n"
     ]
    },
    {
     "data": {
      "text/html": [
       "<table>\n",
       "    <thead>\n",
       "        <tr>\n",
       "            <th>Country</th>\n",
       "            <th>Water:Land Ratio</th>\n",
       "        </tr>\n",
       "    </thead>\n",
       "    <tbody>\n",
       "        <tr>\n",
       "            <td>British Indian Ocean Territory</td>\n",
       "            <td>905.67</td>\n",
       "        </tr>\n",
       "        <tr>\n",
       "            <td>Virgin Islands</td>\n",
       "            <td>4.52</td>\n",
       "        </tr>\n",
       "        <tr>\n",
       "            <td>Puerto Rico</td>\n",
       "            <td>0.55</td>\n",
       "        </tr>\n",
       "        <tr>\n",
       "            <td>Bahamas, The</td>\n",
       "            <td>0.39</td>\n",
       "        </tr>\n",
       "        <tr>\n",
       "            <td>Guinea-Bissau</td>\n",
       "            <td>0.28</td>\n",
       "        </tr>\n",
       "        <tr>\n",
       "            <td>Malawi</td>\n",
       "            <td>0.26</td>\n",
       "        </tr>\n",
       "        <tr>\n",
       "            <td>Netherlands</td>\n",
       "            <td>0.23</td>\n",
       "        </tr>\n",
       "        <tr>\n",
       "            <td>Uganda</td>\n",
       "            <td>0.22</td>\n",
       "        </tr>\n",
       "        <tr>\n",
       "            <td>Eritrea</td>\n",
       "            <td>0.16</td>\n",
       "        </tr>\n",
       "        <tr>\n",
       "            <td>Liberia</td>\n",
       "            <td>0.16</td>\n",
       "        </tr>\n",
       "        <tr>\n",
       "            <td>Bangladesh</td>\n",
       "            <td>0.14</td>\n",
       "        </tr>\n",
       "        <tr>\n",
       "            <td>Gambia, The</td>\n",
       "            <td>0.12</td>\n",
       "        </tr>\n",
       "        <tr>\n",
       "            <td>Taiwan</td>\n",
       "            <td>0.12</td>\n",
       "        </tr>\n",
       "        <tr>\n",
       "            <td>Finland</td>\n",
       "            <td>0.11</td>\n",
       "        </tr>\n",
       "        <tr>\n",
       "            <td>India</td>\n",
       "            <td>0.11</td>\n",
       "        </tr>\n",
       "    </tbody>\n",
       "</table>"
      ],
      "text/plain": [
       "[('British Indian Ocean Territory', 905.67),\n",
       " ('Virgin Islands', 4.52),\n",
       " ('Puerto Rico', 0.55),\n",
       " ('Bahamas, The', 0.39),\n",
       " ('Guinea-Bissau', 0.28),\n",
       " ('Malawi', 0.26),\n",
       " ('Netherlands', 0.23),\n",
       " ('Uganda', 0.22),\n",
       " ('Eritrea', 0.16),\n",
       " ('Liberia', 0.16),\n",
       " ('Bangladesh', 0.14),\n",
       " ('Gambia, The', 0.12),\n",
       " ('Taiwan', 0.12),\n",
       " ('Finland', 0.11),\n",
       " ('India', 0.11)]"
      ]
     },
     "execution_count": 14,
     "metadata": {},
     "output_type": "execute_result"
    }
   ],
   "source": [
    "%%sql\n",
    "SELECT name AS Country, ROUND(CAST(area_water AS FLOAT)/area_land, 2) AS 'Water:Land Ratio'\n",
    "    FROM facts\n",
    "    WHERE ROUND(CAST(area_water AS FLOAT)/area_land, 2) > 0.1\n",
    "    ORDER BY CAST(area_water AS FLOAT)/area_land DESC\n",
    "    ;"
   ]
  },
  {
   "cell_type": "markdown",
   "metadata": {},
   "source": [
    "British Indian Ocean Territory has the highest water to land ratio by far (over 900 times as much water). The Virgin Islands have about 4.5 times as much water as land. The next countries are other island nations such as Puerto Rico and The Bahamas. "
   ]
  }
 ],
 "metadata": {
  "kernelspec": {
   "display_name": "Python 3 (ipykernel)",
   "language": "python",
   "name": "python3"
  },
  "language_info": {
   "codemirror_mode": {
    "name": "ipython",
    "version": 3
   },
   "file_extension": ".py",
   "mimetype": "text/x-python",
   "name": "python",
   "nbconvert_exporter": "python",
   "pygments_lexer": "ipython3",
   "version": "3.9.7"
  }
 },
 "nbformat": 4,
 "nbformat_minor": 2
}
